{
 "cells": [
  {
   "cell_type": "code",
   "execution_count": null,
   "metadata": {},
   "outputs": [],
   "source": [
    "import os\n",
    "import logging\n",
    "from zipfile import ZipFile\n",
    "import pandas as pd\n",
    "from merlin import MERLIN"
   ]
  },
  {
   "attachments": {},
   "cell_type": "markdown",
   "metadata": {},
   "source": [
    "# Load Data\n"
   ]
  },
  {
   "cell_type": "code",
   "execution_count": null,
   "metadata": {},
   "outputs": [],
   "source": [
    "with ZipFile('tests/test_data/20newsgroups.zip', 'r') as archive:\n",
    "    df_left = pd.read_csv(archive.open('df_left.csv'), delimiter=',')\n",
    "    df_right = pd.read_csv(archive.open('df_right.csv'), delimiter=',')\n",
    "\n",
    "df_left = df_left[~df_left['corpus'].isnull()]\n",
    "df_right = df_right[~df_right['corpus'].isnull()]\n",
    "\n",
    "# Load data\n",
    "X_left, Y_left, predicted_labels_left = df_left[\n",
    "    'corpus'], df_left['category'], df_left['predicted_labels']\n",
    "X_right, Y_right, predicted_labels_right = df_right[\n",
    "    'corpus'], df_right['category'], df_right['predicted_labels']"
   ]
  },
  {
   "attachments": {},
   "cell_type": "markdown",
   "metadata": {},
   "source": [
    "# MERLIN\n"
   ]
  },
  {
   "cell_type": "code",
   "execution_count": null,
   "metadata": {},
   "outputs": [],
   "source": [
    "exp = MERLIN(X_left, predicted_labels_left,\n",
    "             X_right, predicted_labels_right,\n",
    "             data_type='text', surrogate_type='sklearn', log_level=logging.INFO,\n",
    "             hyperparameters_selection=True, save_path=f'results/',\n",
    "             save_surrogates=True, save_bdds=True)\n",
    "\n",
    "percent_dataset = 1\n",
    "print(\n",
    "    f'Running Trace with percent of dataset to use: {percent_dataset}', flush=True)\n",
    "exp.run_trace(percent_dataset)"
   ]
  },
  {
   "cell_type": "code",
   "execution_count": null,
   "metadata": {},
   "outputs": [],
   "source": [
    "exp.run_explain()\n"
   ]
  },
  {
   "attachments": {},
   "cell_type": "markdown",
   "metadata": {},
   "source": [
    "# Bdd2Text\n"
   ]
  },
  {
   "cell_type": "code",
   "execution_count": null,
   "metadata": {
    "scrolled": true
   },
   "outputs": [],
   "source": [
    "exp.explain.BDD2Text()\n"
   ]
  }
 ],
 "metadata": {
  "kernelspec": {
   "display_name": "Python 3",
   "language": "python",
   "name": "python3"
  },
  "language_info": {
   "codemirror_mode": {
    "name": "ipython",
    "version": 3
   },
   "file_extension": ".py",
   "mimetype": "text/x-python",
   "name": "python",
   "nbconvert_exporter": "python",
   "pygments_lexer": "ipython3",
   "version": "3.9.7"
  }
 },
 "nbformat": 4,
 "nbformat_minor": 2
}
